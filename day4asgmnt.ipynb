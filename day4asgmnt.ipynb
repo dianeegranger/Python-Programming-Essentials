{
  "nbformat": 4,
  "nbformat_minor": 0,
  "metadata": {
    "colab": {
      "provenance": [],
      "authorship_tag": "ABX9TyPMhiMALrwogiRzd6+7jqB1",
      "include_colab_link": true
    },
    "kernelspec": {
      "name": "python3",
      "display_name": "Python 3"
    },
    "language_info": {
      "name": "python"
    }
  },
  "cells": [
    {
      "cell_type": "markdown",
      "metadata": {
        "id": "view-in-github",
        "colab_type": "text"
      },
      "source": [
        "<a href=\"https://colab.research.google.com/github/dianeegranger/Python-Programming-Essentials/blob/main/day4asgmnt.ipynb\" target=\"_parent\"><img src=\"https://colab.research.google.com/assets/colab-badge.svg\" alt=\"Open In Colab\"/></a>"
      ]
    },
    {
      "cell_type": "markdown",
      "source": [
        "# Day 4 Assignment\n",
        "\n",
        "Diane E. Granger<br>\n",
        "dianeegranger@gmail.com\n",
        "\n",
        "Day 4 | January 6, 2023 | Control Statements <br>\n",
        "Python Programming Essentials Bootcamp (5 Days) <br>\n",
        "LetsUpgrade <br>\n",
        "Trainer:  Shabnam Sayed <br>\n",
        "Course Dates:  January 3 - 7, 2023 \n",
        "\n",
        "# Assignment\n",
        "Write a Python function to sum all the numbers in a list.<br>\n",
        "Sample list:  (8, 2, 3, 0, 7)"
      ],
      "metadata": {
        "id": "n_US6n8zk7b9"
      }
    },
    {
      "cell_type": "code",
      "source": [
        "# sum numbers in a list\n",
        "num_list = [8, 2, 3, 0, 7]\n",
        "def list_sum(l):\n",
        "  # initialize sum\n",
        "  sum = 0\n",
        "  # iterate over list\n",
        "  for num in l:\n",
        "    sum += num  # add next number to current sum\n",
        "  return sum  # expected output:  20\n",
        "\n",
        "print(\"The sum of num_list[] is: \" , list_sum(num_list))"
      ],
      "metadata": {
        "colab": {
          "base_uri": "https://localhost:8080/",
          "height": 0
        },
        "id": "bVGUZb8hk-wl",
        "outputId": "e7e79d98-d0c4-464a-de69-53991c3a57a3"
      },
      "execution_count": 8,
      "outputs": [
        {
          "output_type": "stream",
          "name": "stdout",
          "text": [
            "The sum of num_list[] is:  20\n"
          ]
        }
      ]
    }
  ]
}