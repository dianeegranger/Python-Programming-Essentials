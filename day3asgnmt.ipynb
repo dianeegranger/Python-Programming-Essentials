{
  "nbformat": 4,
  "nbformat_minor": 0,
  "metadata": {
    "colab": {
      "provenance": [],
      "authorship_tag": "ABX9TyO4BULyH97LKtoH1ncrUhSJ",
      "include_colab_link": true
    },
    "kernelspec": {
      "name": "python3",
      "display_name": "Python 3"
    },
    "language_info": {
      "name": "python"
    }
  },
  "cells": [
    {
      "cell_type": "markdown",
      "metadata": {
        "id": "view-in-github",
        "colab_type": "text"
      },
      "source": [
        "<a href=\"https://colab.research.google.com/github/dianeegranger/Python-Programming-Essentials/blob/main/day3asgnmt.ipynb\" target=\"_parent\"><img src=\"https://colab.research.google.com/assets/colab-badge.svg\" alt=\"Open In Colab\"/></a>"
      ]
    },
    {
      "cell_type": "markdown",
      "source": [
        "# Day 3 Assignment\n",
        "\n",
        "Diane Granger<br>\n",
        "dianeegranger@gmail.com\n",
        "\n",
        "Day 3 | January 5, 2023 | Control Statements <br>\n",
        "Python Programming Essentials Bootcamp (5 Days) <br>\n",
        "LetsUpgrade <br>\n",
        "Trainer:  Shabnam Sayed <br>\n",
        "Course Dates:  January 3 - 7, 2023 \n",
        "\n",
        "# Assignment\n",
        "Write a program to construct the following pattern, using a nested **for loop**.\n",
        "```\n",
        "*\n",
        "**\n",
        "***\n",
        "****\n",
        "*****\n",
        "****\n",
        "***\n",
        "**\n",
        "*\n",
        "```\n",
        "\n",
        "\n"
      ],
      "metadata": {
        "id": "dpwOlkyALfjz"
      }
    },
    {
      "cell_type": "code",
      "source": [
        "# Print a right Pascal's triangle pattern of stars\n",
        "rows = 5\n",
        "# outer for loop 1\n",
        "for i in range(rows + 1):\n",
        "  # nested for loop 1\n",
        "  for j in range(i):\n",
        "    # display star(s)\n",
        "    print(\"*\", end=\" \")\n",
        "  # print newline after each row\n",
        "  print(\"\\r\")\n",
        "# outer for loop 2\n",
        "for i in range(rows, 0, -1):\n",
        "  # nested for loop 2\n",
        "  for j in range(0, i-1):\n",
        "    # print star(s)\n",
        "    print(\"*\", end=\" \")\n",
        "    # print newline after each row\n",
        "  print(\"\\r\")\n",
        "\n"
      ],
      "metadata": {
        "colab": {
          "base_uri": "https://localhost:8080/",
          "height": 0
        },
        "id": "ic1lyxONGRRS",
        "outputId": "67545e87-e33d-4c9a-e80b-cafa6f107d2b"
      },
      "execution_count": 2,
      "outputs": [
        {
          "output_type": "stream",
          "name": "stdout",
          "text": [
            "\r\n",
            "* \r\n",
            "* * \r\n",
            "* * * \r\n",
            "* * * * \r\n",
            "* * * * * \r\n",
            "* * * * \r\n",
            "* * * \r\n",
            "* * \r\n",
            "* \r\n",
            "\r\n"
          ]
        }
      ]
    }
  ]
}